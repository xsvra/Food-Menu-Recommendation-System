{
 "cells": [
  {
   "cell_type": "markdown",
   "id": "72087d99-4039-45aa-911b-5aee71ad89ad",
   "metadata": {},
   "source": [
    "1. Import Modul\n",
    "Menyiapkan modul-modul yang diperlukan untuk pemrosesan data, pemodelan, evaluasi, dan visualisasi."
   ]
  },
  {
   "cell_type": "code",
   "execution_count": 6,
   "id": "032e68a7-9bf0-4513-b956-ad7963c370af",
   "metadata": {},
   "outputs": [
    {
     "name": "stdout",
     "output_type": "stream",
     "text": [
      "Collecting sklearn\n",
      "  Downloading sklearn-0.0.post12.tar.gz (2.6 kB)\n",
      "  Preparing metadata (setup.py): started\n",
      "  Preparing metadata (setup.py): finished with status 'error'\n"
     ]
    },
    {
     "name": "stderr",
     "output_type": "stream",
     "text": [
      "WARNING: Ignoring invalid distribution ~ (C:\\Python311\\Lib\\site-packages)\n",
      "WARNING: Ignoring invalid distribution ~ip (C:\\Python311\\Lib\\site-packages)\n",
      "  error: subprocess-exited-with-error\n",
      "  \n",
      "  python setup.py egg_info did not run successfully.\n",
      "  exit code: 1\n",
      "  \n",
      "  [15 lines of output]\n",
      "  The 'sklearn' PyPI package is deprecated, use 'scikit-learn'\n",
      "  rather than 'sklearn' for pip commands.\n",
      "  \n",
      "  Here is how to fix this error in the main use cases:\n",
      "  - use 'pip install scikit-learn' rather than 'pip install sklearn'\n",
      "  - replace 'sklearn' by 'scikit-learn' in your pip requirements files\n",
      "    (requirements.txt, setup.py, setup.cfg, Pipfile, etc ...)\n",
      "  - if the 'sklearn' package is used by one of your dependencies,\n",
      "    it would be great if you take some time to track which package uses\n",
      "    'sklearn' instead of 'scikit-learn' and report it to their issue tracker\n",
      "  - as a last resort, set the environment variable\n",
      "    SKLEARN_ALLOW_DEPRECATED_SKLEARN_PACKAGE_INSTALL=True to avoid this error\n",
      "  \n",
      "  More information is available at\n",
      "  https://github.com/scikit-learn/sklearn-pypi-package\n",
      "  [end of output]\n",
      "  \n",
      "  note: This error originates from a subprocess, and is likely not a problem with pip.\n",
      "error: metadata-generation-failed\n",
      "\n",
      "Encountered error while generating package metadata.\n",
      "\n",
      "See above for output.\n",
      "\n",
      "note: This is an issue with the package mentioned above, not pip.\n",
      "hint: See above for details.\n"
     ]
    }
   ],
   "source": [
    "!pip install sklearn"
   ]
  },
  {
   "cell_type": "code",
   "execution_count": 7,
   "id": "597a23d9-1d34-4b52-85f6-418a5f24cb2b",
   "metadata": {
    "scrolled": true
   },
   "outputs": [
    {
     "ename": "ModuleNotFoundError",
     "evalue": "No module named 'sklearn'",
     "output_type": "error",
     "traceback": [
      "\u001b[1;31m---------------------------------------------------------------------------\u001b[0m",
      "\u001b[1;31mModuleNotFoundError\u001b[0m                       Traceback (most recent call last)",
      "Cell \u001b[1;32mIn[7], line 10\u001b[0m\n\u001b[0;32m      7\u001b[0m \u001b[38;5;28;01mfrom\u001b[39;00m \u001b[38;5;21;01mscipy\u001b[39;00m\u001b[38;5;21;01m.\u001b[39;00m\u001b[38;5;21;01mstats\u001b[39;00m \u001b[38;5;28;01mimport\u001b[39;00m zscore\n\u001b[0;32m      9\u001b[0m \u001b[38;5;66;03m# Untuk pemodelan dan evaluasi KNN\u001b[39;00m\n\u001b[1;32m---> 10\u001b[0m \u001b[38;5;28;01mfrom\u001b[39;00m \u001b[38;5;21;01msklearn\u001b[39;00m\u001b[38;5;21;01m.\u001b[39;00m\u001b[38;5;21;01mmodel_selection\u001b[39;00m \u001b[38;5;28;01mimport\u001b[39;00m train_test_split\n\u001b[0;32m     11\u001b[0m \u001b[38;5;28;01mfrom\u001b[39;00m \u001b[38;5;21;01msklearn\u001b[39;00m\u001b[38;5;21;01m.\u001b[39;00m\u001b[38;5;21;01mpreprocessing\u001b[39;00m \u001b[38;5;28;01mimport\u001b[39;00m StandardScaler\n\u001b[0;32m     12\u001b[0m \u001b[38;5;28;01mfrom\u001b[39;00m \u001b[38;5;21;01msklearn\u001b[39;00m\u001b[38;5;21;01m.\u001b[39;00m\u001b[38;5;21;01mneighbors\u001b[39;00m \u001b[38;5;28;01mimport\u001b[39;00m KNeighborsClassifier\n",
      "\u001b[1;31mModuleNotFoundError\u001b[0m: No module named 'sklearn'"
     ]
    }
   ],
   "source": [
    "# Untuk ekstraksi file\n",
    "import zipfile\n",
    "import os\n",
    "\n",
    "# Untuk manipulasi data\n",
    "import pandas as pd\n",
    "from scipy.stats import zscore\n",
    "\n",
    "# Untuk pemodelan dan evaluasi KNN\n",
    "from sklearn.model_selection import train_test_split\n",
    "from sklearn.preprocessing import StandardScaler\n",
    "from sklearn.neighbors import KNeighborsClassifier\n",
    "from sklearn.metrics import accuracy_score, classification_report\n",
    "\n",
    "# Untuk visualisasi\n",
    "import matplotlib.pyplot as plt\n",
    "import seaborn as sns"
   ]
  },
  {
   "cell_type": "markdown",
   "id": "07d13982-fd59-44cf-ac6a-0fbc42eb2c1e",
   "metadata": {},
   "source": [
    "2. Data Understanding\n",
    "Memuat dan menampilkan data awal dari file yang diekstrak untuk memastikan data dimuat dengan benar."
   ]
  },
  {
   "cell_type": "code",
   "execution_count": null,
   "id": "a0820034-4ca3-45d1-8a12-4ef16cb9f33b",
   "metadata": {},
   "outputs": [],
   "source": [
    "# Tentukan path file .zip dan folder ekstraksi\n",
    "zip_file_path = 'archive.zip'\n",
    "extract_folder = '/content/'\n",
    "\n",
    "# Ekstrak file ZIP\n",
    "with zipfile.ZipFile(zip_file_path, 'r') as zip_ref:\n",
    "    zip_ref.extractall(extract_folder)\n",
    "\n",
    "# Cek isi folder\n",
    "os.listdir(extract_folder)\n",
    "\n",
    "# Load dataset\n",
    "data_file_path = '/content/nutrients/data.csv'\n",
    "df_food = pd.read_csv(data_file_path)\n",
    "\n",
    "gym_data_path = '/content/dataset/gym_members_exercise_tracking.csv'\n",
    "df_user = pd.read_csv(gym_data_path)\n",
    "\n",
    "# Lihat sebagian isi dataset\n",
    "df_food.head(), df_user.head()"
   ]
  },
  {
   "cell_type": "markdown",
   "id": "daeffbff-e6a4-44ab-9e9c-872b52a54926",
   "metadata": {},
   "source": [
    "3. Data Preparation\n",
    "Menyiapkan data untuk pemodelan dengan memilih fitur yang relevan, melakukan encoding, dan menangani nilai hilang."
   ]
  },
  {
   "cell_type": "code",
   "execution_count": null,
   "id": "608fc647-6e46-4a5f-a6eb-02624338283c",
   "metadata": {},
   "outputs": [],
   "source": [
    "# Memilih fitur yang relevan dari dataset pengguna\n",
    "df_user = df_user[['Age', 'Gender', 'Weight (kg)', 'Height (m)', 'Workout_Frequency (days/week)', 'Experience_Level', 'BMI']]\n",
    "\n",
    "# Encode gender menjadi angka (0 = Female, 1 = Male)\n",
    "df_user.loc[:, 'Gender'] = df_user['Gender'].apply(lambda x: 1 if x == 'Male' else 0)\n",
    "\n",
    "# Kategorikan BMI menjadi kategori berat badan\n",
    "def classify_bmi(bmi):\n",
    "    if bmi < 18.5:\n",
    "        return 'Underweight'\n",
    "    elif 18.5 <= bmi < 24.9:\n",
    "        return 'Normal weight'\n",
    "    elif 25 <= bmi < 29.9:\n",
    "        return 'Overweight'\n",
    "    else:\n",
    "        return 'Obesity'\n",
    "\n",
    "df_user['BMI_Category'] = df_user['BMI'].apply(classify_bmi)"
   ]
  },
  {
   "cell_type": "markdown",
   "id": "4c72ee5b-029b-4369-b322-855985a3a52b",
   "metadata": {},
   "source": [
    "4. Data Cleaning\n",
    "Menangani missing values, outliers, dan memverifikasi dataset yang bersih."
   ]
  },
  {
   "cell_type": "code",
   "execution_count": null,
   "id": "c2a5cfc8-42a2-4e2f-9c6a-ba4b45f87284",
   "metadata": {},
   "outputs": [],
   "source": [
    "# Pisahkan kolom numerik dan kategorikal\n",
    "numerical_cols = df_user.select_dtypes(include=['float64', 'int64']).columns\n",
    "categorical_cols = df_user.select_dtypes(include=['object']).columns\n",
    "\n",
    "# Imputasi missing values untuk kolom numerik dengan rata-rata\n",
    "df_user[numerical_cols] = df_user[numerical_cols].fillna(df_user[numerical_cols].mean())\n",
    "\n",
    "# Imputasi missing values untuk kolom kategorikal dengan mode (nilai terbanyak)\n",
    "df_user[categorical_cols] = df_user[categorical_cols].fillna(df_user[categorical_cols].mode().iloc[0])\n",
    "\n",
    "# Verifikasi apakah masih ada nilai yang hilang\n",
    "print(df_user.isnull().sum())\n",
    "\n",
    "# Menangani outlier dengan Z-score\n",
    "z_scores = zscore(df_user[['Age', 'Weight (kg)', 'Height (m)', 'Workout_Frequency (days/week)', 'Experience_Level']])\n",
    "df_user_clean = df_user[(z_scores < 3).all(axis=1)]  # Menghapus data dengan Z-score lebih dari 3\n",
    "# Verifikasi apakah masih ada nilai yang hilang\n",
    "print(f\"Jumlah data setelah menghapus outlier: {df_user_clean.shape[0]}\")"
   ]
  },
  {
   "cell_type": "markdown",
   "id": "fab61d30-75e2-462d-abf9-cd3aac5f9143",
   "metadata": {},
   "source": [
    "5. Feature Engineering\n",
    "Memisahkan fitur dan target, serta melakukan normalisasi data untuk pemodelan."
   ]
  },
  {
   "cell_type": "code",
   "execution_count": null,
   "id": "69aba523-0d75-4a82-9fa6-fb4f2adda9d2",
   "metadata": {},
   "outputs": [],
   "source": [
    "# Pisahkan fitur dan target\n",
    "X = df_user_clean[['Age', 'Gender', 'Weight (kg)', 'Height (m)', 'Workout_Frequency (days/week)', 'Experience_Level']]\n",
    "y = df_user_clean['BMI_Category']\n",
    "\n",
    "# Bagi data menjadi data pelatihan dan pengujian\n",
    "X_train, X_test, y_train, y_test = train_test_split(X, y, test_size=0.2, random_state=42)\n",
    "\n",
    "# Normalisasi data\n",
    "scaler = StandardScaler()\n",
    "X_train_scaled = scaler.fit_transform(X_train)\n",
    "X_test_scaled = scaler.transform(X_test)"
   ]
  },
  {
   "cell_type": "markdown",
   "id": "266ed65b-b6ef-4c95-a911-85f236bf6455",
   "metadata": {},
   "source": [
    "6. Modelling\n",
    "Latih model KNN dengan berbagai nilai K dan metrik jarak, serta evaluasi hasilnya."
   ]
  },
  {
   "cell_type": "code",
   "execution_count": null,
   "id": "8d57e4ba-e3e6-43e4-90a0-01d77611ad6e",
   "metadata": {},
   "outputs": [],
   "source": [
    "# List of different distance metrics\n",
    "metrics = ['euclidean', 'manhattan', 'chebyshev', 'minkowski']\n",
    "\n",
    "# Placeholder for accuracies\n",
    "accuracies = {metric: [] for metric in metrics}\n",
    "\n",
    "# Tentukan rentang nilai K\n",
    "k_values = range(1, 36)\n",
    "\n",
    "# Evaluasi model dengan berbagai metric\n",
    "for metric in metrics:\n",
    "    for k in k_values:\n",
    "        knn = KNeighborsClassifier(n_neighbors=k, metric=metric)\n",
    "        knn.fit(X_train_scaled, y_train)\n",
    "        y_pred = knn.predict(X_test_scaled)\n",
    "        accuracies[metric].append(accuracy_score(y_test, y_pred))\n",
    "\n",
    "# Plotting hasil perbandingan\n",
    "plt.figure(figsize=(10, 6))\n",
    "for metric in metrics:\n",
    "    plt.plot(k_values, accuracies[metric], label=f'{metric} distance')\n",
    "\n",
    "plt.xlabel('Jumlah K')\n",
    "plt.ylabel('Akurasi')\n",
    "plt.title('Perbandingan Akurasi Berdasarkan Metrik Jarak dan Nilai K')\n",
    "plt.legend()\n",
    "plt.show()"
   ]
  },
  {
   "cell_type": "markdown",
   "id": "70570f42-0726-4e2b-8a59-ef4eb014f8ab",
   "metadata": {},
   "source": [
    "7. Model Evaluation (50 User Data)\n",
    "Evaluasi model dengan 50 data pengguna buatan dan nilai K yang berbeda."
   ]
  },
  {
   "cell_type": "code",
   "execution_count": null,
   "id": "f5ac2af7-e3d6-450b-923e-5626c024d7df",
   "metadata": {
    "jupyter": {
     "source_hidden": true
    }
   },
   "outputs": [],
   "source": [
    "# 50 data pengguna buatan\n",
    "user_inputs = pd.DataFrame({\n",
    "    'Age': [30, 25, 40, 35, 28] * 10,\n",
    "    'Gender': [0, 1, 0, 1, 0] * 10,\n",
    "    'Weight (kg)': [45, 55, 65, 70, 60] * 10,\n",
    "    'Height (m)': [1.65, 1.75, 1.80, 1.68, 1.72] * 10,\n",
    "    'Workout_Frequency (days/week)': [3, 4, 5, 2, 3] * 10,\n",
    "    'Experience_Level': [2, 3, 1, 2, 4] * 10\n",
    "})\n",
    "\n",
    "# Normalisasi data pengguna\n",
    "user_inputs_scaled = scaler.transform(user_inputs)\n",
    "\n",
    "# Evaluasi model untuk setiap nilai K dengan 50 data pengguna\n",
    "accuracies_user = []\n",
    "\n",
    "for k in k_values:\n",
    "    knn = KNeighborsClassifier(n_neighbors=k)\n",
    "    knn.fit(X_train_scaled, y_train)\n",
    "    y_pred = knn.predict(user_inputs_scaled)  # Mengklasifikasikan 50 data pengguna\n",
    "\n",
    "    # Sesuaikan dengan kategori BMI yang benar dari data pengguna jika ada\n",
    "    y_true = df_user_clean.loc[user_inputs.index, 'BMI_Category']  # Ambil kategori BMI asli dari data pengguna\n",
    "    accuracies_user.append(accuracy_score(y_true, y_pred))  # Evaluasi akurasi berdasarkan data pengguna\n",
    "\n",
    "# Plotting akurasi vs nilai K\n",
    "plt.plot(k_values, accuracies_user)\n",
    "plt.xlabel('Jumlah K')\n",
    "plt.ylabel('Akurasi')\n",
    "plt.title('Akurasi Model KNN vs Nilai K pada 50 Data Pengguna')\n",
    "plt.show()"
   ]
  },
  {
   "cell_type": "markdown",
   "id": "b61981d5-d5c2-44dd-b26e-5f11b1a42456",
   "metadata": {},
   "source": [
    "8. Cross-Validation and Hyperparameter Tuning\n",
    "Melakukan grid search untuk mencari kombinasi parameter terbaik untuk model KNN."
   ]
  },
  {
   "cell_type": "code",
   "execution_count": null,
   "id": "a69fd88a-9aa3-43a7-bfda-f41fe98a3a41",
   "metadata": {},
   "outputs": [],
   "source": [
    "from sklearn.model_selection import GridSearchCV\n",
    "\n",
    "# Menyiapkan parameter yang ingin dicoba\n",
    "param_grid = {\n",
    "    'n_neighbors': range(1, 21),  # mencoba berbagai nilai K\n",
    "    'metric': ['euclidean', 'manhattan', 'minkowski', 'chebyshev']  # mencoba berbagai metrik\n",
    "}\n",
    "\n",
    "# Melakukan Grid Search dengan 5-fold cross-validation\n",
    "grid_search = GridSearchCV(KNeighborsClassifier(), param_grid, cv=5, scoring='accuracy')\n",
    "grid_search.fit(X_train_scaled, y_train)\n",
    "\n",
    "# Menampilkan hasil terbaik\n",
    "print(f\"Best parameters: {grid_search.best_params_}\")\n",
    "print(f\"Best score: {grid_search.best_score_}\")"
   ]
  },
  {
   "cell_type": "markdown",
   "id": "67b2723d-a463-405f-b6f3-4a82becb271c",
   "metadata": {},
   "source": [
    "9. Model Comparison\n",
    "Membandingkan performa beberapa model (KNN, Decision Tree, Random Forest) untuk melihat model terbaik."
   ]
  },
  {
   "cell_type": "code",
   "execution_count": null,
   "id": "e8e1123f-f051-47c3-922a-ea3ac85a0577",
   "metadata": {},
   "outputs": [],
   "source": [
    "from sklearn.tree import DecisionTreeClassifier\n",
    "from sklearn.ensemble import RandomForestClassifier\n",
    "\n",
    "# Membuat dan melatih berbagai model untuk evaluasi\n",
    "models = {\n",
    "    'KNN': KNeighborsClassifier(n_neighbors=5),\n",
    "    'Decision Tree': DecisionTreeClassifier(),\n",
    "    'Random Forest': RandomForestClassifier()\n",
    "}\n",
    "\n",
    "# Evaluasi setiap model\n",
    "for name, model in models.items():\n",
    "    model.fit(X_train_scaled, y_train)\n",
    "    y_pred = model.predict(X_test_scaled)\n",
    "    print(f\"Model {name}:\")\n",
    "    print(f\"Accuracy: {accuracy_score(y_test, y_pred) * 100:.2f}%\")\n",
    "    print(classification_report(y_test, y_pred))"
   ]
  },
  {
   "cell_type": "markdown",
   "id": "8a196b6a-85f2-4cc2-ad88-b997f3129a7d",
   "metadata": {},
   "source": [
    "10. Feature Selection\n",
    "Menggunakan teknik RFE dan SelectFromModel untuk memilih fitur yang paling penting."
   ]
  },
  {
   "cell_type": "code",
   "execution_count": null,
   "id": "18ecae31-d27d-4fd7-9866-0c76465f121e",
   "metadata": {},
   "outputs": [],
   "source": [
    "from sklearn.feature_selection import RFE\n",
    "\n",
    "# Menggunakan RFE untuk memilih fitur terbaik\n",
    "selector = RFE(KNeighborsClassifier(n_neighbors=5), n_features_to_select=3)\n",
    "selector.fit(X_train_scaled, y_train)\n",
    "\n",
    "# Menampilkan fitur yang dipilih\n",
    "selected_features = X.columns[selector.support_]\n",
    "print(f\"Selected Features: {selected_features}\")"
   ]
  },
  {
   "cell_type": "markdown",
   "id": "93f66d1e-5ac3-4854-a63c-0624b5f351cb",
   "metadata": {},
   "source": [
    "11. Food Recommendation Function\n",
    "Fungsi untuk memberikan rekomendasi makanan berdasarkan kategori BMI."
   ]
  },
  {
   "cell_type": "code",
   "execution_count": null,
   "id": "45e4265a-d418-4e0d-8f2b-3535ca098263",
   "metadata": {},
   "outputs": [],
   "source": [
    "def food_recommendation(bmi_category):\n",
    "    if bmi_category == 'Underweight':\n",
    "        return df_food[(df_food['kcal'] > 250) & (df_food['protein'] > 15)]  # Menu dengan lebih banyak kalori dan protein\n",
    "    elif bmi_category == 'Normal weight':\n",
    "        return df_food[(df_food['kcal'] <= 250) & (df_food['protein'] >= 10)]  # Menu yang seimbang\n",
    "    elif bmi_category == 'Overweight':\n",
    "        return df_food[(df_food['kcal'] < 200) & (df_food['fibre'] > 5) & (df_food['fat'] < 10)]  # Menu rendah kalori, lebih banyak serat, rendah lemak\n",
    "    elif bmi_category == 'Obesity':\n",
    "        return df_food[(df_food['kcal'] < 200) & (df_food['fibre'] > 7) & (df_food['fat'] < 8)]  # Menu rendah kalori dan tinggi serat\n"
   ]
  },
  {
   "cell_type": "markdown",
   "id": "1d219ec9-b2dc-44fd-b10f-8ffdc00cbbbc",
   "metadata": {},
   "source": [
    "12. Recommending Food for User\n",
    "Fungsi untuk mendapatkan rekomendasi makanan untuk pengguna berdasarkan data yang dimasukkan."
   ]
  },
  {
   "cell_type": "code",
   "execution_count": null,
   "id": "71507459-6798-4b3b-803e-328937494c22",
   "metadata": {},
   "outputs": [],
   "source": [
    "def recommend_food_for_user(user_data):\n",
    "    # Pastikan user_input memiliki dimensi 2D (1 data point)\n",
    "    user_scaled = scaler.transform(user_data[['Age', 'Gender', 'Weight (kg)', 'Height (m)', 'Workout_Frequency (days/week)', 'Experience_Level']].values.reshape(1, -1))\n",
    "\n",
    "    # Prediksi kategori BMI berdasarkan data pengguna\n",
    "    predicted_bmi_category = knn.predict(user_scaled)[0]\n",
    "\n",
    "    # Dapatkan rekomendasi makanan berdasarkan kategori BMI yang diprediksi\n",
    "    recommended_food = food_recommendation(predicted_bmi_category)\n",
    "\n",
    "    # Tampilkan hasil rekomendasi makanan\n",
    "    return predicted_bmi_category, recommended_food\n",
    "\n",
    "# Contoh penggunaan: rekomendasi untuk pengguna dengan data berikut\n",
    "user_input = pd.DataFrame({\n",
    "    'Age': [30],\n",
    "    'Gender': [0],  # Female\n",
    "    'Weight (kg)': [45],\n",
    "    'Height (m)': [1.65],\n",
    "    'Workout_Frequency (days/week)': [3],\n",
    "    'Experience_Level': [2]\n",
    "})\n",
    "\n",
    "# Rekomendasi makanan untuk pengguna\n",
    "predicted_bmi, recommended_food = recommend_food_for_user(user_input)\n",
    "predicted_bmi, recommended_food.head()  # Menampilkan 5 rekomendasi pertama"
   ]
  }
 ],
 "metadata": {
  "kernelspec": {
   "display_name": "Python 3 (ipykernel)",
   "language": "python",
   "name": "python3"
  },
  "language_info": {
   "codemirror_mode": {
    "name": "ipython",
    "version": 3
   },
   "file_extension": ".py",
   "mimetype": "text/x-python",
   "name": "python",
   "nbconvert_exporter": "python",
   "pygments_lexer": "ipython3",
   "version": "3.11.2"
  }
 },
 "nbformat": 4,
 "nbformat_minor": 5
}
